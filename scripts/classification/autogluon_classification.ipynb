{
 "cells": [
  {
   "cell_type": "code",
   "execution_count": null,
   "metadata": {},
   "outputs": [],
   "source": [
    "!pip install autogluon==0.7.0"
   ]
  },
  {
   "cell_type": "code",
   "execution_count": 1,
   "metadata": {},
   "outputs": [
    {
     "name": "stderr",
     "output_type": "stream",
     "text": [
      "/h/yulun_wu/miniconda3/envs/tab_env/lib/python3.8/site-packages/tqdm/auto.py:21: TqdmWarning: IProgress not found. Please update jupyter and ipywidgets. See https://ipywidgets.readthedocs.io/en/stable/user_install.html\n",
      "  from .autonotebook import tqdm as notebook_tqdm\n"
     ]
    }
   ],
   "source": [
    "import os\n",
    "\n",
    "import torch\n",
    "\n",
    "from tabular_prediction.methods import autogluon_metric\n",
    "from tabular_prediction.metrics import accuracy_metric, balanced_accuracy_metric, cross_entropy_metric, auc_metric"
   ]
  },
  {
   "cell_type": "code",
   "execution_count": 2,
   "metadata": {},
   "outputs": [],
   "source": [
    "max_time = 30"
   ]
  },
  {
   "cell_type": "code",
   "execution_count": null,
   "metadata": {},
   "outputs": [],
   "source": [
    "for split in range(1, 7):\n",
    "    data_dir = f\"../../datasets/classification/OpenML-CC18-{split}\"\n",
    "    datasets = os.listdir(data_dir)\n",
    "    datasets = [dataset for dataset in datasets if \".pt\" in dataset]\n",
    "\n",
    "    with open(f\"../../results/autogluon-classification-{split}-time{max_time}.csv\", \"a\") as f:\n",
    "        f.write(','.join([\"dataset\", \"acc\", \"bacc\", \"ce\", \"auc\", \"time\"]))\n",
    "        f.write('\\n')\n",
    "        f.flush()\n",
    "        for i, dataset in enumerate(datasets):\n",
    "            if dataset in ['mnist_784.pt', 'CIFAR_10.pt', 'Devnagari-Script.pt', 'Fashion-MNIST.pt']:\n",
    "                continue\n",
    "            data = torch.load(os.path.join(data_dir, dataset), map_location='cpu')\n",
    "            x_train, y_train, x_test, y_test = data[\"data\"]\n",
    "\n",
    "            test_y, pred, run_time = autogluon_metric(x_train, y_train, x_test, y_test, cat_features=data[\"cat_features\"], metric_used=auc_metric, max_time=max_time)\n",
    "            f.write(','.join([dataset] + [f'{val:5.4f}' for val in [accuracy_metric(test_y, pred), balanced_accuracy_metric(test_y, pred), cross_entropy_metric(test_y, pred), auc_metric(test_y, pred), run_time]]))\n",
    "            f.write('\\n')\n",
    "            f.flush()"
   ]
  }
 ],
 "metadata": {
  "kernelspec": {
   "display_name": "apt_env",
   "language": "python",
   "name": "python3"
  },
  "language_info": {
   "codemirror_mode": {
    "name": "ipython",
    "version": 3
   },
   "file_extension": ".py",
   "mimetype": "text/x-python",
   "name": "python",
   "nbconvert_exporter": "python",
   "pygments_lexer": "ipython3",
   "version": "3.8.19"
  }
 },
 "nbformat": 4,
 "nbformat_minor": 2
}
