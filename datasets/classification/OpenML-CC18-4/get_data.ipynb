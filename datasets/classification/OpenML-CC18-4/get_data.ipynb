{
 "cells": [
  {
   "cell_type": "code",
   "execution_count": 1,
   "metadata": {},
   "outputs": [],
   "source": [
    "import math\n",
    "import openml\n",
    "import numpy as np\n",
    "\n",
    "import torch"
   ]
  },
  {
   "cell_type": "code",
   "execution_count": 2,
   "metadata": {},
   "outputs": [],
   "source": [
    "def download_openml_suite(suite_id=99, max_features=500, shuffle=True,\n",
    "                          split_min=0.88, split_max=0.92, seed=None):\n",
    "    if seed is not None: np.random.seed(seed)\n",
    "\n",
    "    benchmark_suite = openml.study.get_suite(suite_id=suite_id)\n",
    "    datalist = openml.datasets.list_datasets(data_id=benchmark_suite.data, output_format='dataframe')\n",
    "\n",
    "    n_classes = []\n",
    "    for _, ds in enumerate(datalist.index):\n",
    "        entry = datalist.loc[ds]\n",
    "        name = entry['name']\n",
    "        did = entry['did']\n",
    "        print('Downloading', name, did, '..')\n",
    "\n",
    "        dataset = openml.datasets.get_dataset(int(did))\n",
    "        X, y, categorical_indicator, attribute_names = dataset.get_data(target=dataset.default_target_attribute)\n",
    "\n",
    "        if X is None: continue\n",
    "\n",
    "        # cat_columns = X.select_dtypes(['category', 'object']).columns\n",
    "        # for col in cat_columns:\n",
    "        #     try:\n",
    "        #         X[col].astype(np.float32)\n",
    "        #     except:\n",
    "        #         X[col] = X[col].astype('category').cat.codes\n",
    "        for i, col in enumerate(X.columns):\n",
    "            if not categorical_indicator[i]:\n",
    "                try:\n",
    "                    X[col].astype(np.float32)\n",
    "                    continue\n",
    "                except:\n",
    "                    categorical_indicator[i] = True\n",
    "            X[col] = X[col].astype('category').cat.codes\n",
    "\n",
    "        X = X.values.astype('float32')\n",
    "\n",
    "        N, F = X.shape\n",
    "        #if F > max_features: continue\n",
    "\n",
    "        n_classes.append(y.astype('category').cat.categories.size)\n",
    "        y = y.astype('category').cat.codes.values\n",
    "\n",
    "        if shuffle:\n",
    "            perm = np.random.permutation(N)\n",
    "            X = X[perm, :]\n",
    "            y = y[perm]\n",
    "\n",
    "        test_size = N - int(N*np.random.uniform(split_min, split_max))\n",
    "        test_size = min(test_size, 1000)\n",
    "\n",
    "        X_train, X_test = X[:(-test_size), :], X[(-test_size):, :]\n",
    "        y_train, y_test = y[:(-test_size)], y[(-test_size):]\n",
    "        X_train, y_train, X_test, y_test = map(torch.tensor, (X_train, y_train, X_test, y_test))\n",
    "        dataset = {\n",
    "            \"data\": (X_train, y_train, X_test, y_test),\n",
    "            \"cat_features\": torch.tensor(categorical_indicator, dtype=torch.long),\n",
    "            \"attribute_names\": attribute_names\n",
    "        }\n",
    "        torch.save(dataset, f'{name}.pt')\n",
    "\n",
    "    return n_classes\n"
   ]
  },
  {
   "cell_type": "code",
   "execution_count": null,
   "metadata": {},
   "outputs": [],
   "source": [
    "download_openml_suite(seed=44)"
   ]
  },
  {
   "cell_type": "code",
   "execution_count": null,
   "metadata": {},
   "outputs": [],
   "source": []
  }
 ],
 "metadata": {
  "kernelspec": {
   "display_name": "pfn_env",
   "language": "python",
   "name": "python3"
  },
  "language_info": {
   "codemirror_mode": {
    "name": "ipython",
    "version": 3
   },
   "file_extension": ".py",
   "mimetype": "text/x-python",
   "name": "python",
   "nbconvert_exporter": "python",
   "pygments_lexer": "ipython3",
   "version": "3.10.14"
  }
 },
 "nbformat": 4,
 "nbformat_minor": 2
}
