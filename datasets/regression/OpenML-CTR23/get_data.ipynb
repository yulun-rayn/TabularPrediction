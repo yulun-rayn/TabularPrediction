{
 "cells": [
  {
   "cell_type": "code",
   "execution_count": 1,
   "metadata": {},
   "outputs": [
    {
     "name": "stderr",
     "output_type": "stream",
     "text": [
      "/h/yulun_wu/miniconda3/envs/tab_env/lib/python3.8/site-packages/tqdm/auto.py:21: TqdmWarning: IProgress not found. Please update jupyter and ipywidgets. See https://ipywidgets.readthedocs.io/en/stable/user_install.html\n",
      "  from .autonotebook import tqdm as notebook_tqdm\n"
     ]
    }
   ],
   "source": [
    "import openml\n",
    "import numpy as np\n",
    "\n",
    "import torch"
   ]
  },
  {
   "cell_type": "code",
   "execution_count": 2,
   "metadata": {},
   "outputs": [],
   "source": [
    "def download_openml_suite(suite_id=353, max_features=120, shuffle=True,\n",
    "                          split_min=0.88, split_max=0.92, seed=None):\n",
    "    if seed is not None: np.random.seed(seed)\n",
    "\n",
    "    benchmark_suite = openml.study.get_suite(suite_id=suite_id)\n",
    "    datalist = openml.datasets.list_datasets(data_id=benchmark_suite.data, output_format='dataframe')\n",
    "\n",
    "    for _, ds in enumerate(datalist.index):\n",
    "        entry = datalist.loc[ds]\n",
    "        name = entry['name']\n",
    "        did = entry['did']\n",
    "        print('Downloading', name, did, '..')\n",
    "\n",
    "        dataset = openml.datasets.get_dataset(int(did))\n",
    "        X, y, categorical_indicator, attribute_names = dataset.get_data(target=dataset.default_target_attribute)\n",
    "\n",
    "        if X is None: continue\n",
    "\n",
    "        # cat_columns = X.select_dtypes(['category', 'object']).columns\n",
    "        # for col in cat_columns:\n",
    "        #     try:\n",
    "        #         X[col].astype(np.float32)\n",
    "        #     except:\n",
    "        #         X[col] = X[col].astype('category').cat.codes\n",
    "        for i, col in enumerate(X.columns):\n",
    "            if not categorical_indicator[i]:\n",
    "                try:\n",
    "                    X[col].astype(np.float32)\n",
    "                    continue\n",
    "                except:\n",
    "                    categorical_indicator[i] = True\n",
    "            X[col] = X[col].astype('category').cat.codes\n",
    "\n",
    "        X = X.values.astype('float32')\n",
    "        y = y.values.astype('float32')\n",
    "\n",
    "        N, F = X.shape\n",
    "        #if F > max_features: continue\n",
    "\n",
    "        if shuffle:\n",
    "            perm = np.random.permutation(N)\n",
    "            X = X[perm, :]\n",
    "            y = y[perm]\n",
    "\n",
    "        split = int(N*np.random.uniform(split_min, split_max))\n",
    "\n",
    "        X_train, X_test = X[:split, :], X[split:, :]\n",
    "        y_train, y_test = y[:split], y[split:]\n",
    "        X_train, y_train, X_test, y_test = map(torch.tensor, (X_train, y_train, X_test, y_test))\n",
    "        dataset = {\n",
    "            \"data\": (X_train, y_train, X_test, y_test),\n",
    "            \"cat_features\": torch.tensor(categorical_indicator, dtype=torch.long),\n",
    "            \"attribute_names\": attribute_names\n",
    "        }\n",
    "        torch.save(dataset, f'{name}.pt')\n"
   ]
  },
  {
   "cell_type": "code",
   "execution_count": null,
   "metadata": {},
   "outputs": [],
   "source": [
    "download_openml_suite(seed=40)"
   ]
  },
  {
   "cell_type": "code",
   "execution_count": null,
   "metadata": {},
   "outputs": [],
   "source": []
  }
 ],
 "metadata": {
  "kernelspec": {
   "display_name": "pfn_env",
   "language": "python",
   "name": "python3"
  },
  "language_info": {
   "codemirror_mode": {
    "name": "ipython",
    "version": 3
   },
   "file_extension": ".py",
   "mimetype": "text/x-python",
   "name": "python",
   "nbconvert_exporter": "python",
   "pygments_lexer": "ipython3",
   "version": "3.8.19"
  }
 },
 "nbformat": 4,
 "nbformat_minor": 2
}
