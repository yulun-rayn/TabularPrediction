{
 "cells": [
  {
   "cell_type": "code",
   "execution_count": null,
   "metadata": {},
   "outputs": [],
   "source": [
    "!pip install lightgbm==3.3.5"
   ]
  },
  {
   "cell_type": "code",
   "execution_count": null,
   "metadata": {},
   "outputs": [],
   "source": [
    "import os\n",
    "\n",
    "import torch\n",
    "\n",
    "from tabular_prediction.methods import lightgbm_metric\n",
    "from tabular_prediction.metrics import accuracy_metric, balanced_accuracy_metric, cross_entropy_metric, auc_metric"
   ]
  },
  {
   "cell_type": "code",
   "execution_count": 2,
   "metadata": {},
   "outputs": [],
   "source": [
    "max_time = 30"
   ]
  },
  {
   "cell_type": "code",
   "execution_count": 3,
   "metadata": {},
   "outputs": [
    {
     "name": "stdout",
     "output_type": "stream",
     "text": [
      "  1%|          | 6/1000 [00:38<1:47:02,  6.46s/trial, best loss: 0.2785500410025945]\n",
      "\n",
      "\n",
      "accuracy: 0.8890 \n",
      "\n",
      "balanced accuracy: 0.8090 \n",
      "\n",
      "cross entropy: 0.2310 \n",
      "\n",
      "roc auc: 0.9518 \n",
      "\n",
      "run time: 40.7763 seconds \n",
      "\n"
     ]
    }
   ],
   "source": [
    "# single dataset\n",
    "data = torch.load(os.path.join(\"../datasets/classification/OpenML-CC18/adult.pt\"), map_location='cpu')\n",
    "x_train, y_train, x_test, y_test = data[\"data\"]\n",
    "cat_features = torch.where(data[\"cat_features\"])[0]\n",
    "\n",
    "test_y, pred, run_time = lightgbm_metric(x_train, y_train, x_test, y_test, cat_features=cat_features, metric_used=cross_entropy_metric, max_time=max_time)\n",
    "\n",
    "print(f\"\\n\")\n",
    "print(f\"accuracy: {accuracy_metric(test_y, pred):5.4f} \\n\")\n",
    "print(f\"balanced accuracy: {balanced_accuracy_metric(test_y, pred):5.4f} \\n\")\n",
    "print(f\"cross entropy: {cross_entropy_metric(test_y, pred):5.4f} \\n\")\n",
    "print(f\"roc auc: {auc_metric(test_y, pred):5.4f} \\n\")\n",
    "print(f\"run time: {run_time:5.4f} seconds \\n\")"
   ]
  },
  {
   "cell_type": "code",
   "execution_count": null,
   "metadata": {},
   "outputs": [],
   "source": [
    "# all datasets\n",
    "for split in range(1, 7):\n",
    "    data_dir = f\"../datasets/classification/OpenML-CC18-{split}\"\n",
    "    datasets = os.listdir(data_dir)\n",
    "    datasets = [dataset for dataset in datasets if \".pt\" in dataset]\n",
    "\n",
    "    with open(f\"../results/autogluon-classification-{split}-time{max_time}.csv\", \"a\") as f:\n",
    "        f.write(','.join([\"dataset\", \"acc\", \"bacc\", \"ce\", \"auc\", \"time\"]))\n",
    "        f.write('\\n')\n",
    "        f.flush()\n",
    "        for i, dataset in enumerate(datasets):\n",
    "            if dataset in ['mnist_784.pt', 'CIFAR_10.pt', 'Devnagari-Script.pt', 'Fashion-MNIST.pt']:\n",
    "                continue\n",
    "            data = torch.load(os.path.join(data_dir, dataset), map_location='cpu')\n",
    "            x_train, y_train, x_test, y_test = data[\"data\"]\n",
    "            cat_features = torch.where(data[\"cat_features\"])[0]\n",
    "\n",
    "            test_y, pred, run_time = lightgbm_metric(x_train, y_train, x_test, y_test, cat_features=cat_features, metric_used=cross_entropy_metric, max_time=max_time)\n",
    "            f.write(','.join([dataset] + [f'{val:5.4f}' for val in [accuracy_metric(test_y, pred), balanced_accuracy_metric(test_y, pred), cross_entropy_metric(test_y, pred), auc_metric(test_y, pred), run_time]]))\n",
    "            f.write('\\n')\n",
    "            f.flush()"
   ]
  }
 ],
 "metadata": {
  "kernelspec": {
   "display_name": "apt_env",
   "language": "python",
   "name": "python3"
  },
  "language_info": {
   "codemirror_mode": {
    "name": "ipython",
    "version": 3
   },
   "file_extension": ".py",
   "mimetype": "text/x-python",
   "name": "python",
   "nbconvert_exporter": "python",
   "pygments_lexer": "ipython3",
   "version": "3.8.19"
  }
 },
 "nbformat": 4,
 "nbformat_minor": 2
}
