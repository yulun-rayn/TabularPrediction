{
 "cells": [
  {
   "cell_type": "code",
   "execution_count": null,
   "metadata": {},
   "outputs": [],
   "source": [
    "!pip install rtdl==0.0.13"
   ]
  },
  {
   "cell_type": "code",
   "execution_count": 1,
   "metadata": {},
   "outputs": [
    {
     "name": "stderr",
     "output_type": "stream",
     "text": [
      "/h/yulun_wu/miniconda3/envs/tab_env/lib/python3.8/site-packages/tqdm/auto.py:21: TqdmWarning: IProgress not found. Please update jupyter and ipywidgets. See https://ipywidgets.readthedocs.io/en/stable/user_install.html\n",
      "  from .autonotebook import tqdm as notebook_tqdm\n"
     ]
    }
   ],
   "source": [
    "import os\n",
    "\n",
    "import torch\n",
    "\n",
    "from tabular_prediction.methods import resnet_predict\n",
    "from tabular_prediction.metrics import accuracy_metric, balanced_accuracy_metric, cross_entropy_metric, auc_metric"
   ]
  },
  {
   "cell_type": "code",
   "execution_count": null,
   "metadata": {},
   "outputs": [],
   "source": [
    "# single dataset\n",
    "max_time = [30, 120]\n",
    "data = torch.load(os.path.join(\"../datasets/classification/OpenML-CC18/adult.pt\"), map_location='cpu')\n",
    "x_train, y_train, x_test, y_test = data[\"data\"]\n",
    "cat_features = torch.where(data[\"cat_features\"])[0]\n",
    "\n",
    "test_y, summary, run_time = resnet_predict(x_train, y_train, x_test, y_test, cat_features=cat_features, metric_used=cross_entropy_metric, max_time=max_time)\n",
    "pred = summary[max_time[-1]]['pred']\n",
    "\n",
    "print(f\"\\n\")\n",
    "print(f\"accuracy: {accuracy_metric(test_y, pred):5.4f} \\n\")\n",
    "print(f\"balanced accuracy: {balanced_accuracy_metric(test_y, pred):5.4f} \\n\")\n",
    "print(f\"cross entropy: {cross_entropy_metric(test_y, pred):5.4f} \\n\")\n",
    "print(f\"roc auc: {auc_metric(test_y, pred):5.4f} \\n\")\n",
    "print(f\"run time: {run_time:5.4f} seconds \\n\")"
   ]
  },
  {
   "cell_type": "code",
   "execution_count": null,
   "metadata": {},
   "outputs": [],
   "source": [
    "# all datasets\n",
    "max_time = [1, 5, 10, 30, 60, 120, 300, 600, 3600]\n",
    "for split in range(1, 7):\n",
    "    data_dir = f\"../datasets/classification/OpenML-CC18-{split}\"\n",
    "    datasets = os.listdir(data_dir)\n",
    "    datasets = [dataset for dataset in datasets if \".pt\" in dataset]\n",
    "\n",
    "    with open(f\"../results/lightgbm-classification-{split}-time{max_time}.csv\", \"a\") as f:\n",
    "        f.write(','.join([\"dataset\", \"acc\", \"bacc\", \"ce\", \"auc\", \"time\"]))\n",
    "        f.write('\\n')\n",
    "        f.flush()\n",
    "        for i, dataset in enumerate(datasets):\n",
    "            if dataset in ['mnist_784.pt', 'CIFAR_10.pt', 'Devnagari-Script.pt', 'Fashion-MNIST.pt']:\n",
    "                continue\n",
    "            data = torch.load(os.path.join(data_dir, dataset), map_location='cpu')\n",
    "            x_train, y_train, x_test, y_test = data[\"data\"]\n",
    "            cat_features = torch.where(data[\"cat_features\"])[0]\n",
    "\n",
    "            test_y, summary, _ = resnet_predict(x_train, y_train, x_test, y_test, cat_features=cat_features, metric_used=cross_entropy_metric, max_time=max_time)\n",
    "            for stop_time in summary:\n",
    "                pred = summary[stop_time]['pred']\n",
    "                run_time = summary[stop_time]['tune_time'] + summary[stop_time]['train_time'] + summary[stop_time]['predict_time']\n",
    "                f.write(','.join([dataset] + [f'{val:5.4f}' for val in [accuracy_metric(test_y, pred), balanced_accuracy_metric(test_y, pred), cross_entropy_metric(test_y, pred), auc_metric(test_y, pred), run_time]]))\n",
    "                f.write('\\n')\n",
    "                f.flush()"
   ]
  },
  {
   "cell_type": "code",
   "execution_count": null,
   "metadata": {},
   "outputs": [],
   "source": [
    "datasets = \"mfeat-fourier.pt,breast-w.pt,mfeat-karhunen.pt,mfeat-morphological.pt,mfeat-zernike.pt,cmc.pt,credit-approval.pt,credit-g.pt,diabetes.pt,tic-tac-toe.pt,vehicle.pt,eucalyptus.pt,analcatdata_authorship.pt,pc4.pt,pc3.pt,kc2.pt,blood-transfusion-service-center.pt,cnae-9.pt,ilpd.pt,wdbc.pt,dresses-sales.pt,MiceProtein.pt,steel-plates-fault.pt,climate-model-simulation-crashes.pt,balance-scale.pt,mfeat-factors.pt,vowel.pt,analcatdata_dmft.pt,pc1.pt,banknote-authentication.pt,qsar-biodeg.pt,semeion.pt,cylinder-bands.pt,car.pt,mfeat-pixel.pt\".split(\",\")\n",
    "\n",
    "max_time = [1, 5, 10, 30, 60, 120, 300, 600, 3600]\n",
    "for split in range(1, 7):\n",
    "    data_dir = f\"../datasets/classification/OpenML-CC18-{split}\"\n",
    "\n",
    "    with open(f\"../results/lightgbm-classification-{split}-time{max_time}.csv\", \"a\") as f:\n",
    "        f.write(','.join([\"dataset\", \"acc\", \"bacc\", \"ce\", \"auc\", \"time\"]))\n",
    "        f.write('\\n')\n",
    "        f.flush()\n",
    "        for i, dataset in enumerate(datasets):\n",
    "            data = torch.load(os.path.join(data_dir, dataset), map_location='cpu')\n",
    "            x_train, y_train, x_test, y_test = data[\"data\"]\n",
    "            cat_features = torch.where(data[\"cat_features\"])[0]\n",
    "\n",
    "            test_y, summary, _ = lightgbm_predict(x_train, y_train, x_test, y_test, cat_features=cat_features, metric_used=cross_entropy_metric, max_time=max_time)\n",
    "            for stop_time in summary:\n",
    "                pred = summary[stop_time]['pred']\n",
    "                run_time = summary[stop_time]['tune_time'] + summary[stop_time]['train_time'] + summary[stop_time]['predict_time']\n",
    "                f.write(','.join([dataset] + [f'{val:5.4f}' for val in [accuracy_metric(test_y, pred), balanced_accuracy_metric(test_y, pred), cross_entropy_metric(test_y, pred), auc_metric(test_y, pred), run_time]]))\n",
    "                f.write('\\n')\n",
    "                f.flush()"
   ]
  }
 ],
 "metadata": {
  "kernelspec": {
   "display_name": "apt_env",
   "language": "python",
   "name": "python3"
  },
  "language_info": {
   "codemirror_mode": {
    "name": "ipython",
    "version": 3
   },
   "file_extension": ".py",
   "mimetype": "text/x-python",
   "name": "python",
   "nbconvert_exporter": "python",
   "pygments_lexer": "ipython3",
   "version": "3.8.19"
  }
 },
 "nbformat": 4,
 "nbformat_minor": 2
}
